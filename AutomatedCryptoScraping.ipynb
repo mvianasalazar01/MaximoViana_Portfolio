{
 "cells": [
  {
   "cell_type": "code",
   "execution_count": 1,
   "id": "1b6d4088-965d-4337-b431-6d544b756de6",
   "metadata": {},
   "outputs": [],
   "source": [
    "import requests\n",
    "from bs4 import BeautifulSoup"
   ]
  },
  {
   "cell_type": "code",
   "execution_count": 3,
   "id": "8e4128df-a484-4c1b-8ed1-0e73eb5eda3b",
   "metadata": {},
   "outputs": [],
   "source": [
    "url = 'https://coinmarketcap.com/currencies/ethereum/'"
   ]
  },
  {
   "cell_type": "code",
   "execution_count": 7,
   "id": "31d54abf-b2a8-4efc-93a2-4ab8f5ddc2e6",
   "metadata": {},
   "outputs": [],
   "source": [
    "page = requests.get(url)"
   ]
  },
  {
   "cell_type": "code",
   "execution_count": 55,
   "id": "39d1b8a4-5bac-4ca4-877e-04ac86a04ff9",
   "metadata": {},
   "outputs": [],
   "source": [
    "soup = BeautifulSoup(page.text,'html')\n",
    "coin_name = soup.find('span','sc-65e7f566-0 lsTl').text"
   ]
  },
  {
   "cell_type": "code",
   "execution_count": 61,
   "id": "10179569-7279-4f7a-85a3-a3f633b6d0b4",
   "metadata": {},
   "outputs": [],
   "source": [
    "coin_price = soup.find('span','sc-65e7f566-0 clvjgF base-text').text"
   ]
  },
  {
   "cell_type": "code",
   "execution_count": 71,
   "id": "19c88eee-d83e-4475-8dc2-94c86b382a85",
   "metadata": {},
   "outputs": [],
   "source": [
    "final_price = coin_price.replace('$','')"
   ]
  },
  {
   "cell_type": "code",
   "execution_count": 75,
   "id": "5babb728-0fc9-4ada-9da3-1ed20f827ed5",
   "metadata": {},
   "outputs": [],
   "source": [
    "import pandas as pd"
   ]
  },
  {
   "cell_type": "code",
   "execution_count": 117,
   "id": "1e6a6190-d410-4934-b055-1af757ba68a0",
   "metadata": {},
   "outputs": [],
   "source": [
    "from datetime import datetime"
   ]
  },
  {
   "cell_type": "code",
   "execution_count": 141,
   "id": "33e95c70-a453-4446-873a-b62ef159f2a8",
   "metadata": {},
   "outputs": [
    {
     "data": {
      "text/html": [
       "<div>\n",
       "<style scoped>\n",
       "    .dataframe tbody tr th:only-of-type {\n",
       "        vertical-align: middle;\n",
       "    }\n",
       "\n",
       "    .dataframe tbody tr th {\n",
       "        vertical-align: top;\n",
       "    }\n",
       "\n",
       "    .dataframe thead th {\n",
       "        text-align: right;\n",
       "    }\n",
       "</style>\n",
       "<table border=\"1\" class=\"dataframe\">\n",
       "  <thead>\n",
       "    <tr style=\"text-align: right;\">\n",
       "      <th></th>\n",
       "      <th>name</th>\n",
       "      <th>price</th>\n",
       "      <th>datetime</th>\n",
       "    </tr>\n",
       "  </thead>\n",
       "  <tbody>\n",
       "    <tr>\n",
       "      <th>0</th>\n",
       "      <td>Ethereum price</td>\n",
       "      <td>2,561.20</td>\n",
       "      <td>2024-09-21 09:58:10.208212</td>\n",
       "    </tr>\n",
       "  </tbody>\n",
       "</table>\n",
       "</div>"
      ],
      "text/plain": [
       "             name     price                   datetime\n",
       "0  Ethereum price  2,561.20 2024-09-21 09:58:10.208212"
      ]
     },
     "execution_count": 141,
     "metadata": {},
     "output_type": "execute_result"
    }
   ],
   "source": [
    "date_time = datetime.now()\n",
    "\n",
    "dict = {'name':coin_name,\n",
    "        'price':final_price,\n",
    "        'datetime':date_time}\n",
    "\n",
    "df = pd.DataFrame([dict])\n",
    "df"
   ]
  },
  {
   "cell_type": "code",
   "execution_count": 149,
   "id": "ed936e18-6917-4728-b910-6b89b159c86e",
   "metadata": {},
   "outputs": [],
   "source": [
    "import os"
   ]
  },
  {
   "cell_type": "code",
   "execution_count": 159,
   "id": "f89aa297-c944-4e58-a84a-a78713d90d7d",
   "metadata": {},
   "outputs": [],
   "source": [
    "if os.path.exists(r'C:\\Users\\maxim\\OneDrive\\Desktop\\Carpeta Inicio\\project.csv'):\n",
    "    df.to_csv(r'C:\\Users\\maxim\\OneDrive\\Desktop\\Carpeta Inicio\\project.csv',mode = 'a', header = False, index = False)\n",
    "else:\n",
    "    df.to_csv(r'C:\\Users\\maxim\\OneDrive\\Desktop\\Carpeta Inicio\\project.csv', index = False)\n",
    "    "
   ]
  },
  {
   "cell_type": "markdown",
   "id": "f1fb0536-2c25-4eff-8510-268410e1cc95",
   "metadata": {},
   "source": [
    "PUTTING ALL TOGETHER"
   ]
  },
  {
   "cell_type": "code",
   "execution_count": 177,
   "id": "53a1eb51-c706-4c5d-8c2d-e63577c413e8",
   "metadata": {},
   "outputs": [],
   "source": [
    "import requests\n",
    "from bs4 import BeautifulSoup\n",
    "import pandas as pd\n",
    "from datetime import datetime\n",
    "import os\n",
    "import time "
   ]
  },
  {
   "cell_type": "code",
   "execution_count": 171,
   "id": "db168e9c-8160-4c77-99ba-49a8d931f311",
   "metadata": {},
   "outputs": [],
   "source": [
    "def automation():\n",
    "    url = 'https://coinmarketcap.com/currencies/ethereum/'\n",
    "    page = requests.get(url)\n",
    "    soup = BeautifulSoup(page.text,'html')\n",
    "    coin_name = soup.find('span','sc-65e7f566-0 lsTl').text\n",
    "    coin_price = soup.find('span','sc-65e7f566-0 clvjgF base-text').text\n",
    "    final_price = coin_price.replace('$','')\n",
    "    \n",
    "    date_time = datetime.now()\n",
    "    dict = {'name':coin_name,\n",
    "            'price':final_price,\n",
    "            'datetime':date_time}\n",
    "    \n",
    "    df = pd.DataFrame([dict])\n",
    "    \n",
    "    if os.path.exists(r'C:\\Users\\maxim\\OneDrive\\Desktop\\Carpeta Inicio\\project.csv'):\n",
    "        df.to_csv(r'C:\\Users\\maxim\\OneDrive\\Desktop\\Carpeta Inicio\\project.csv',mode = 'a', header = False, index = False)\n",
    "    else:\n",
    "        df.to_csv(r'C:\\Users\\maxim\\OneDrive\\Desktop\\Carpeta Inicio\\project.csv', index = False)\n",
    "    print(df)"
   ]
  },
  {
   "cell_type": "code",
   "execution_count": 179,
   "id": "77b13ae3-562d-4730-943b-147eb4dc77b5",
   "metadata": {},
   "outputs": [
    {
     "name": "stdout",
     "output_type": "stream",
     "text": [
      "             name     price                   datetime\n",
      "0  Ethereum price  2,556.74 2024-09-21 11:25:23.822157\n",
      "             name     price                   datetime\n",
      "0  Ethereum price  2,556.74 2024-09-21 11:25:34.265238\n",
      "             name     price                   datetime\n",
      "0  Ethereum price  2,556.74 2024-09-21 11:25:44.720390\n",
      "             name     price                   datetime\n",
      "0  Ethereum price  2,556.54 2024-09-21 11:25:55.236547\n",
      "             name     price                   datetime\n",
      "0  Ethereum price  2,556.54 2024-09-21 11:26:05.731861\n",
      "             name     price                   datetime\n",
      "0  Ethereum price  2,556.54 2024-09-21 11:26:16.380713\n",
      "             name     price                   datetime\n",
      "0  Ethereum price  2,556.54 2024-09-21 11:26:26.911583\n",
      "             name     price                   datetime\n",
      "0  Ethereum price  2,556.54 2024-09-21 11:26:37.579157\n",
      "             name     price                   datetime\n",
      "0  Ethereum price  2,556.54 2024-09-21 11:26:48.112296\n",
      "             name     price                   datetime\n",
      "0  Ethereum price  2,556.54 2024-09-21 11:26:58.615185\n",
      "             name     price                   datetime\n",
      "0  Ethereum price  2,556.54 2024-09-21 11:27:09.139768\n",
      "             name     price                   datetime\n",
      "0  Ethereum price  2,556.54 2024-09-21 11:27:19.982277\n",
      "             name     price                   datetime\n",
      "0  Ethereum price  2,556.54 2024-09-21 11:27:30.716743\n",
      "             name     price                   datetime\n",
      "0  Ethereum price  2,556.54 2024-09-21 11:27:41.199742\n",
      "             name     price                   datetime\n",
      "0  Ethereum price  2,558.37 2024-09-21 11:27:51.661539\n",
      "             name     price                   datetime\n",
      "0  Ethereum price  2,558.37 2024-09-21 11:28:03.885301\n",
      "             name     price                   datetime\n",
      "0  Ethereum price  2,558.37 2024-09-21 11:28:14.406238\n",
      "             name     price                   datetime\n",
      "0  Ethereum price  2,558.37 2024-09-21 11:28:25.401329\n",
      "             name     price                   datetime\n",
      "0  Ethereum price  2,558.37 2024-09-21 11:28:36.430642\n",
      "             name     price                   datetime\n",
      "0  Ethereum price  2,558.37 2024-09-21 11:28:47.906451\n"
     ]
    },
    {
     "ename": "KeyboardInterrupt",
     "evalue": "",
     "output_type": "error",
     "traceback": [
      "\u001b[1;31m---------------------------------------------------------------------------\u001b[0m",
      "\u001b[1;31mKeyboardInterrupt\u001b[0m                         Traceback (most recent call last)",
      "Cell \u001b[1;32mIn[179], line 3\u001b[0m\n\u001b[0;32m      1\u001b[0m \u001b[38;5;28;01mwhile\u001b[39;00m \u001b[38;5;28;01mTrue\u001b[39;00m:\n\u001b[0;32m      2\u001b[0m     automation()\n\u001b[1;32m----> 3\u001b[0m     time\u001b[38;5;241m.\u001b[39msleep(\u001b[38;5;241m10\u001b[39m)\n",
      "\u001b[1;31mKeyboardInterrupt\u001b[0m: "
     ]
    }
   ],
   "source": [
    "while True:\n",
    "    automation()\n",
    "    time.sleep(10)"
   ]
  },
  {
   "cell_type": "code",
   "execution_count": null,
   "id": "89aa4538-4312-4262-a6bf-af57ec71342e",
   "metadata": {},
   "outputs": [],
   "source": []
  }
 ],
 "metadata": {
  "kernelspec": {
   "display_name": "Python 3 (ipykernel)",
   "language": "python",
   "name": "python3"
  },
  "language_info": {
   "codemirror_mode": {
    "name": "ipython",
    "version": 3
   },
   "file_extension": ".py",
   "mimetype": "text/x-python",
   "name": "python",
   "nbconvert_exporter": "python",
   "pygments_lexer": "ipython3",
   "version": "3.12.4"
  }
 },
 "nbformat": 4,
 "nbformat_minor": 5
}
