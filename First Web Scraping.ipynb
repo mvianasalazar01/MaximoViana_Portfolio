{
 "cells": [
  {
   "cell_type": "code",
   "execution_count": 1,
   "id": "26f3ab1a-f3f9-4823-9b93-84ca5ca73ec8",
   "metadata": {},
   "outputs": [],
   "source": [
    "import requests\n",
    "from bs4 import BeautifulSoup"
   ]
  },
  {
   "cell_type": "code",
   "execution_count": 3,
   "id": "009f98c4-f4c1-4916-90d6-bb0ddf02cc77",
   "metadata": {},
   "outputs": [],
   "source": [
    "url = 'https://webscraper.io/test-sites/e-commerce/allinone/computers/laptops'"
   ]
  },
  {
   "cell_type": "code",
   "execution_count": 5,
   "id": "73908596-8ba2-4f24-b89d-c0451359ea9f",
   "metadata": {},
   "outputs": [
    {
     "data": {
      "text/plain": [
       "<Response [200]>"
      ]
     },
     "execution_count": 5,
     "metadata": {},
     "output_type": "execute_result"
    }
   ],
   "source": [
    "requests.get(url)"
   ]
  },
  {
   "cell_type": "code",
   "execution_count": 7,
   "id": "67442642-4c09-407a-9b1c-16f8840bc052",
   "metadata": {},
   "outputs": [],
   "source": [
    "page = requests.get(url)"
   ]
  },
  {
   "cell_type": "code",
   "execution_count": 9,
   "id": "14c8324f-25a0-4318-94b1-d122f5c0be9d",
   "metadata": {},
   "outputs": [],
   "source": [
    "soup = BeautifulSoup(page.text, 'html')"
   ]
  },
  {
   "cell_type": "code",
   "execution_count": 57,
   "id": "cadc056d-8615-48eb-a0e9-ae5ba96d9a1c",
   "metadata": {},
   "outputs": [],
   "source": [
    "all_prices_tablet = soup.find_all('h4','price float-end card-title pull-right')"
   ]
  },
  {
   "cell_type": "code",
   "execution_count": 61,
   "id": "0d44b91b-7b16-4d6c-a066-6f3be52a19c7",
   "metadata": {},
   "outputs": [
    {
     "name": "stdout",
     "output_type": "stream",
     "text": [
      "['$295.99', '$299', '$299', '$306.99', '$321.94', '$356.49', '$364.46', '$372.7', '$379.94', '$379.95', '$391.48', '$393.88', '$399', '$399.99', '$404.23', '$408.98', '$409.63', '$410.46', '$410.66', '$416.99', '$433.3', '$436.29', '$436.29', '$439.73', '$454.62', '$454.73', '$457.38', '$465.95', '$468.56', '$469.1', '$484.23', '$485.9', '$487.8', '$488.64', '$488.78', '$494.71', '$497.17', '$498.23', '$520.99', '$564.98', '$577.99', '$581.99', '$609.99', '$679', '$679', '$729', '$739.99', '$745.99', '$799', '$809', '$899', '$999', '$1033.99', '$1096.02', '$1098.42', '$1099', '$1099', '$1101.83', '$1102.66', '$1110.14', '$1112.91', '$1114.55', '$1123.87', '$1123.87', '$1124.2', '$1133.82', '$1133.91', '$1139.54', '$1140.62', '$1143.4', '$1144.2', '$1144.4', '$1149', '$1149', '$1149.73', '$1154.04', '$1170.1', '$1178.19', '$1178.99', '$1179', '$1187.88', '$1187.98', '$1199', '$1199', '$1199.73', '$1203.41', '$1212.16', '$1221.58', '$1223.99', '$1235.49', '$1238.37', '$1239.2', '$1244.99', '$1259', '$1260.13', '$1271.06', '$1273.11', '$1281.99', '$1294.74', '$1299', '$1310.39', '$1311.99', '$1326.83', '$1333', '$1337.28', '$1338.37', '$1341.22', '$1347.78', '$1349.23', '$1362.24', '$1366.32', '$1381.13', '$1399', '$1399', '$1769', '$1769', '$1799']\n"
     ]
    }
   ],
   "source": [
    "all_prices = [prices.text for prices in all_prices_tablet]\n",
    "print(all_prices)"
   ]
  },
  {
   "cell_type": "code",
   "execution_count": 91,
   "id": "93466775-f9aa-46ff-aec7-6ec1e294f622",
   "metadata": {},
   "outputs": [],
   "source": [
    "all_names_tablet = soup.find_all('a','title')"
   ]
  },
  {
   "cell_type": "code",
   "execution_count": 93,
   "id": "593cd591-1a7e-4a2c-9179-045963e7ea50",
   "metadata": {},
   "outputs": [
    {
     "name": "stdout",
     "output_type": "stream",
     "text": [
      "['Asus VivoBook...', 'Prestigio Smar...', 'Prestigio Smar...', 'Aspire E1-510', 'Lenovo V110-15...', 'Lenovo V110-15...', 'Hewlett Packar...', 'Acer Aspire 3...', 'Acer Aspire A3...', 'Acer Aspire ES...', 'Acer Aspire 3...', 'Acer Aspire 3...', 'Asus VivoBook...', 'Asus VivoBook...', 'Lenovo ThinkPa...', 'Acer Aspire 3...', 'Lenovo V110-15...', 'Acer Aspire ES...', 'Asus VivoBook...', 'Packard 255 G2', 'Asus EeeBook R...', 'Acer Aspire 3...', 'Acer Aspire ES...', 'Acer Extensa 1...', 'Acer Aspire ES...', 'Lenovo V110-15...', 'Acer Aspire A3...', 'Lenovo V110-15...', 'Asus VivoBook...', 'Acer Aspire ES...', 'Lenovo V510 Bl...', 'Acer Aspire ES...', 'Lenovo V510 Bl...', 'Acer Swift 1 S...', 'Dell Vostro 15', 'Acer Aspire 3...', 'Dell Vostro 15...', 'Lenovo V510 Bl...', 'HP 250 G3', 'Acer Spin 5', 'HP 350 G1', 'Aspire E1-572G', 'Pavilion', 'Acer Aspire A5...', 'Dell Inspiron...', 'Asus VivoBook...', 'ProBook', 'Inspiron 15', 'Asus ROG STRIX...', 'Acer Nitro 5 A...', 'Asus ROG STRIX...', 'Lenovo ThinkPa...', 'ThinkPad Yoga', 'Lenovo ThinkPa...', 'Dell Inspiron...', 'MSI GL72M 7RDX', 'MSI GL72M 7RDX', 'Asus ROG Strix...', 'Dell Latitude...', 'Dell Latitude...', 'Lenovo Legion...', 'Toshiba Porteg...', 'Acer Predator...', 'Acer Aspire 7...', 'Dell Inspiron...', 'Dell Latitude...', 'Lenovo Legion...', 'Asus AsusPro A...', 'Acer Nitro 5 A...', 'Dell Latitude...', 'Dell Inspiron...', 'Dell Latitude...', 'Lenovo Legion...', 'MSI GP62M 7RDX...', 'Lenovo Yoga 72...', 'Toshiba Porteg...', 'Acer TravelMat...', 'Dell Latitude...', 'ThinkPad T540p', 'MSI GS63 7RD S...', 'Dell Latitude...', 'Acer Predator...', 'MSI GL62M 7REX', 'MSI GL62M 7REX...', 'Lenovo Yoga 91...', 'Toshiba Porteg...', 'Lenovo IdeaPad...', 'Acer Predator...', 'ThinkPad Yoga', 'Asus VivoBook...', 'Dell Latitude...', 'Asus ZenBook U...', 'ThinkPad X230', 'Asus ROG Strix...', 'Apple MacBook...', 'Dell Latitude...', 'Hewlett Packar...', 'Dell XPS 13', 'Toshiba Porteg...', 'MSI GL62VR 7RF...', 'Dell Latitude...', 'ThinkPad X240', 'Hewlett Packar...', 'Apple MacBook...', 'Dell Latitude...', 'Dell Latitude...', 'Dell Latitude...', 'Apple MacBook...', 'Lenovo ThinkPa...', 'Lenovo ThinkPa...', 'Toshiba Porteg...', 'Asus ASUSPRO B...', 'Lenovo Legion...', 'Asus ROG Strix...', 'Asus ROG Strix...', 'Asus ROG Strix...', 'Asus ROG Strix...']\n"
     ]
    }
   ],
   "source": [
    "all_names = [titles.text for titles in all_names_tablet]\n",
    "print(all_names)"
   ]
  },
  {
   "cell_type": "code",
   "execution_count": 95,
   "id": "27c93ed4-4f6c-41d7-8259-ebfb02b57391",
   "metadata": {},
   "outputs": [],
   "source": [
    "import pandas as pd"
   ]
  },
  {
   "cell_type": "code",
   "execution_count": 97,
   "id": "52df9234-2216-4e04-be9e-4b8229fa0a64",
   "metadata": {},
   "outputs": [
    {
     "data": {
      "text/html": [
       "<div>\n",
       "<style scoped>\n",
       "    .dataframe tbody tr th:only-of-type {\n",
       "        vertical-align: middle;\n",
       "    }\n",
       "\n",
       "    .dataframe tbody tr th {\n",
       "        vertical-align: top;\n",
       "    }\n",
       "\n",
       "    .dataframe thead th {\n",
       "        text-align: right;\n",
       "    }\n",
       "</style>\n",
       "<table border=\"1\" class=\"dataframe\">\n",
       "  <thead>\n",
       "    <tr style=\"text-align: right;\">\n",
       "      <th></th>\n",
       "      <th>0</th>\n",
       "    </tr>\n",
       "  </thead>\n",
       "  <tbody>\n",
       "    <tr>\n",
       "      <th>$295.99</th>\n",
       "      <td>Asus VivoBook...</td>\n",
       "    </tr>\n",
       "    <tr>\n",
       "      <th>$299</th>\n",
       "      <td>Prestigio Smar...</td>\n",
       "    </tr>\n",
       "    <tr>\n",
       "      <th>$299</th>\n",
       "      <td>Prestigio Smar...</td>\n",
       "    </tr>\n",
       "    <tr>\n",
       "      <th>$306.99</th>\n",
       "      <td>Aspire E1-510</td>\n",
       "    </tr>\n",
       "    <tr>\n",
       "      <th>$321.94</th>\n",
       "      <td>Lenovo V110-15...</td>\n",
       "    </tr>\n",
       "    <tr>\n",
       "      <th>...</th>\n",
       "      <td>...</td>\n",
       "    </tr>\n",
       "    <tr>\n",
       "      <th>$1399</th>\n",
       "      <td>Lenovo Legion...</td>\n",
       "    </tr>\n",
       "    <tr>\n",
       "      <th>$1399</th>\n",
       "      <td>Asus ROG Strix...</td>\n",
       "    </tr>\n",
       "    <tr>\n",
       "      <th>$1769</th>\n",
       "      <td>Asus ROG Strix...</td>\n",
       "    </tr>\n",
       "    <tr>\n",
       "      <th>$1769</th>\n",
       "      <td>Asus ROG Strix...</td>\n",
       "    </tr>\n",
       "    <tr>\n",
       "      <th>$1799</th>\n",
       "      <td>Asus ROG Strix...</td>\n",
       "    </tr>\n",
       "  </tbody>\n",
       "</table>\n",
       "<p>117 rows × 1 columns</p>\n",
       "</div>"
      ],
      "text/plain": [
       "                         0\n",
       "$295.99   Asus VivoBook...\n",
       "$299     Prestigio Smar...\n",
       "$299     Prestigio Smar...\n",
       "$306.99      Aspire E1-510\n",
       "$321.94  Lenovo V110-15...\n",
       "...                    ...\n",
       "$1399     Lenovo Legion...\n",
       "$1399    Asus ROG Strix...\n",
       "$1769    Asus ROG Strix...\n",
       "$1769    Asus ROG Strix...\n",
       "$1799    Asus ROG Strix...\n",
       "\n",
       "[117 rows x 1 columns]"
      ]
     },
     "execution_count": 97,
     "metadata": {},
     "output_type": "execute_result"
    }
   ],
   "source": [
    "pd.DataFrame(all_names,all_prices)"
   ]
  },
  {
   "cell_type": "code",
   "execution_count": null,
   "id": "584fbed2-cd45-487e-9159-39a60f4f5e27",
   "metadata": {},
   "outputs": [],
   "source": []
  }
 ],
 "metadata": {
  "kernelspec": {
   "display_name": "Python 3 (ipykernel)",
   "language": "python",
   "name": "python3"
  },
  "language_info": {
   "codemirror_mode": {
    "name": "ipython",
    "version": 3
   },
   "file_extension": ".py",
   "mimetype": "text/x-python",
   "name": "python",
   "nbconvert_exporter": "python",
   "pygments_lexer": "ipython3",
   "version": "3.12.4"
  }
 },
 "nbformat": 4,
 "nbformat_minor": 5
}
